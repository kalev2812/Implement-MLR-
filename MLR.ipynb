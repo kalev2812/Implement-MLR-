{
  "nbformat": 4,
  "nbformat_minor": 0,
  "metadata": {
    "colab": {
      "name": "MLR.ipynb",
      "provenance": [],
      "collapsed_sections": []
    },
    "kernelspec": {
      "name": "python3",
      "display_name": "Python 3"
    },
    "language_info": {
      "name": "python"
    }
  },
  "cells": [
    {
      "cell_type": "markdown",
      "source": [
        "MLR Implement "
      ],
      "metadata": {
        "id": "aNU9ypkB4C_R"
      }
    },
    {
      "cell_type": "code",
      "execution_count": 1,
      "metadata": {
        "colab": {
          "base_uri": "https://localhost:8080/"
        },
        "id": "1wkCAuc31AEj",
        "outputId": "290602b6-7f0c-49c3-cf90-0ccd581a5ae1"
      },
      "outputs": [
        {
          "output_type": "stream",
          "name": "stderr",
          "text": [
            "/usr/local/lib/python3.7/dist-packages/statsmodels/tools/_testing.py:19: FutureWarning: pandas.util.testing is deprecated. Use the functions in the public API at pandas.testing instead.\n",
            "  import pandas.util.testing as tm\n"
          ]
        }
      ],
      "source": [
        "import pandas as pd\n",
        "import numpy as np\n",
        "import statsmodels.api as sm\n",
        "import seaborn as sns\n",
        "import matplotlib.pyplot as plt\n",
        "import math"
      ]
    },
    {
      "cell_type": "code",
      "source": [
        "df = pd.read_csv('/content/Advertising.csv')\n",
        "df.head()"
      ],
      "metadata": {
        "colab": {
          "base_uri": "https://localhost:8080/",
          "height": 206
        },
        "id": "a3FI7Au31KHx",
        "outputId": "0969a5b4-9ff1-45ef-bede-c3f5cdd4bb9c"
      },
      "execution_count": 2,
      "outputs": [
        {
          "output_type": "execute_result",
          "data": {
            "text/html": [
              "\n",
              "  <div id=\"df-a8b2674e-429d-4bdc-b64c-411c9e14c4c6\">\n",
              "    <div class=\"colab-df-container\">\n",
              "      <div>\n",
              "<style scoped>\n",
              "    .dataframe tbody tr th:only-of-type {\n",
              "        vertical-align: middle;\n",
              "    }\n",
              "\n",
              "    .dataframe tbody tr th {\n",
              "        vertical-align: top;\n",
              "    }\n",
              "\n",
              "    .dataframe thead th {\n",
              "        text-align: right;\n",
              "    }\n",
              "</style>\n",
              "<table border=\"1\" class=\"dataframe\">\n",
              "  <thead>\n",
              "    <tr style=\"text-align: right;\">\n",
              "      <th></th>\n",
              "      <th>Unnamed: 0</th>\n",
              "      <th>TV</th>\n",
              "      <th>Radio</th>\n",
              "      <th>Newspaper</th>\n",
              "      <th>Sales</th>\n",
              "    </tr>\n",
              "  </thead>\n",
              "  <tbody>\n",
              "    <tr>\n",
              "      <th>0</th>\n",
              "      <td>1</td>\n",
              "      <td>230.1</td>\n",
              "      <td>37.8</td>\n",
              "      <td>69.2</td>\n",
              "      <td>22.1</td>\n",
              "    </tr>\n",
              "    <tr>\n",
              "      <th>1</th>\n",
              "      <td>2</td>\n",
              "      <td>44.5</td>\n",
              "      <td>39.3</td>\n",
              "      <td>45.1</td>\n",
              "      <td>10.4</td>\n",
              "    </tr>\n",
              "    <tr>\n",
              "      <th>2</th>\n",
              "      <td>3</td>\n",
              "      <td>17.2</td>\n",
              "      <td>45.9</td>\n",
              "      <td>69.3</td>\n",
              "      <td>9.3</td>\n",
              "    </tr>\n",
              "    <tr>\n",
              "      <th>3</th>\n",
              "      <td>4</td>\n",
              "      <td>151.5</td>\n",
              "      <td>41.3</td>\n",
              "      <td>58.5</td>\n",
              "      <td>18.5</td>\n",
              "    </tr>\n",
              "    <tr>\n",
              "      <th>4</th>\n",
              "      <td>5</td>\n",
              "      <td>180.8</td>\n",
              "      <td>10.8</td>\n",
              "      <td>58.4</td>\n",
              "      <td>12.9</td>\n",
              "    </tr>\n",
              "  </tbody>\n",
              "</table>\n",
              "</div>\n",
              "      <button class=\"colab-df-convert\" onclick=\"convertToInteractive('df-a8b2674e-429d-4bdc-b64c-411c9e14c4c6')\"\n",
              "              title=\"Convert this dataframe to an interactive table.\"\n",
              "              style=\"display:none;\">\n",
              "        \n",
              "  <svg xmlns=\"http://www.w3.org/2000/svg\" height=\"24px\"viewBox=\"0 0 24 24\"\n",
              "       width=\"24px\">\n",
              "    <path d=\"M0 0h24v24H0V0z\" fill=\"none\"/>\n",
              "    <path d=\"M18.56 5.44l.94 2.06.94-2.06 2.06-.94-2.06-.94-.94-2.06-.94 2.06-2.06.94zm-11 1L8.5 8.5l.94-2.06 2.06-.94-2.06-.94L8.5 2.5l-.94 2.06-2.06.94zm10 10l.94 2.06.94-2.06 2.06-.94-2.06-.94-.94-2.06-.94 2.06-2.06.94z\"/><path d=\"M17.41 7.96l-1.37-1.37c-.4-.4-.92-.59-1.43-.59-.52 0-1.04.2-1.43.59L10.3 9.45l-7.72 7.72c-.78.78-.78 2.05 0 2.83L4 21.41c.39.39.9.59 1.41.59.51 0 1.02-.2 1.41-.59l7.78-7.78 2.81-2.81c.8-.78.8-2.07 0-2.86zM5.41 20L4 18.59l7.72-7.72 1.47 1.35L5.41 20z\"/>\n",
              "  </svg>\n",
              "      </button>\n",
              "      \n",
              "  <style>\n",
              "    .colab-df-container {\n",
              "      display:flex;\n",
              "      flex-wrap:wrap;\n",
              "      gap: 12px;\n",
              "    }\n",
              "\n",
              "    .colab-df-convert {\n",
              "      background-color: #E8F0FE;\n",
              "      border: none;\n",
              "      border-radius: 50%;\n",
              "      cursor: pointer;\n",
              "      display: none;\n",
              "      fill: #1967D2;\n",
              "      height: 32px;\n",
              "      padding: 0 0 0 0;\n",
              "      width: 32px;\n",
              "    }\n",
              "\n",
              "    .colab-df-convert:hover {\n",
              "      background-color: #E2EBFA;\n",
              "      box-shadow: 0px 1px 2px rgba(60, 64, 67, 0.3), 0px 1px 3px 1px rgba(60, 64, 67, 0.15);\n",
              "      fill: #174EA6;\n",
              "    }\n",
              "\n",
              "    [theme=dark] .colab-df-convert {\n",
              "      background-color: #3B4455;\n",
              "      fill: #D2E3FC;\n",
              "    }\n",
              "\n",
              "    [theme=dark] .colab-df-convert:hover {\n",
              "      background-color: #434B5C;\n",
              "      box-shadow: 0px 1px 3px 1px rgba(0, 0, 0, 0.15);\n",
              "      filter: drop-shadow(0px 1px 2px rgba(0, 0, 0, 0.3));\n",
              "      fill: #FFFFFF;\n",
              "    }\n",
              "  </style>\n",
              "\n",
              "      <script>\n",
              "        const buttonEl =\n",
              "          document.querySelector('#df-a8b2674e-429d-4bdc-b64c-411c9e14c4c6 button.colab-df-convert');\n",
              "        buttonEl.style.display =\n",
              "          google.colab.kernel.accessAllowed ? 'block' : 'none';\n",
              "\n",
              "        async function convertToInteractive(key) {\n",
              "          const element = document.querySelector('#df-a8b2674e-429d-4bdc-b64c-411c9e14c4c6');\n",
              "          const dataTable =\n",
              "            await google.colab.kernel.invokeFunction('convertToInteractive',\n",
              "                                                     [key], {});\n",
              "          if (!dataTable) return;\n",
              "\n",
              "          const docLinkHtml = 'Like what you see? Visit the ' +\n",
              "            '<a target=\"_blank\" href=https://colab.research.google.com/notebooks/data_table.ipynb>data table notebook</a>'\n",
              "            + ' to learn more about interactive tables.';\n",
              "          element.innerHTML = '';\n",
              "          dataTable['output_type'] = 'display_data';\n",
              "          await google.colab.output.renderOutput(dataTable, element);\n",
              "          const docLink = document.createElement('div');\n",
              "          docLink.innerHTML = docLinkHtml;\n",
              "          element.appendChild(docLink);\n",
              "        }\n",
              "      </script>\n",
              "    </div>\n",
              "  </div>\n",
              "  "
            ],
            "text/plain": [
              "   Unnamed: 0     TV  Radio  Newspaper  Sales\n",
              "0           1  230.1   37.8       69.2   22.1\n",
              "1           2   44.5   39.3       45.1   10.4\n",
              "2           3   17.2   45.9       69.3    9.3\n",
              "3           4  151.5   41.3       58.5   18.5\n",
              "4           5  180.8   10.8       58.4   12.9"
            ]
          },
          "metadata": {},
          "execution_count": 2
        }
      ]
    },
    {
      "cell_type": "code",
      "source": [
        "df.describe()"
      ],
      "metadata": {
        "colab": {
          "base_uri": "https://localhost:8080/",
          "height": 300
        },
        "id": "CRuLoEra1Xax",
        "outputId": "0a225a97-5477-4f04-8376-b672493ebc35"
      },
      "execution_count": 3,
      "outputs": [
        {
          "output_type": "execute_result",
          "data": {
            "text/html": [
              "\n",
              "  <div id=\"df-3f018b25-2e74-4357-92ac-12e0e74a4564\">\n",
              "    <div class=\"colab-df-container\">\n",
              "      <div>\n",
              "<style scoped>\n",
              "    .dataframe tbody tr th:only-of-type {\n",
              "        vertical-align: middle;\n",
              "    }\n",
              "\n",
              "    .dataframe tbody tr th {\n",
              "        vertical-align: top;\n",
              "    }\n",
              "\n",
              "    .dataframe thead th {\n",
              "        text-align: right;\n",
              "    }\n",
              "</style>\n",
              "<table border=\"1\" class=\"dataframe\">\n",
              "  <thead>\n",
              "    <tr style=\"text-align: right;\">\n",
              "      <th></th>\n",
              "      <th>Unnamed: 0</th>\n",
              "      <th>TV</th>\n",
              "      <th>Radio</th>\n",
              "      <th>Newspaper</th>\n",
              "      <th>Sales</th>\n",
              "    </tr>\n",
              "  </thead>\n",
              "  <tbody>\n",
              "    <tr>\n",
              "      <th>count</th>\n",
              "      <td>200.000000</td>\n",
              "      <td>200.000000</td>\n",
              "      <td>200.000000</td>\n",
              "      <td>200.000000</td>\n",
              "      <td>200.000000</td>\n",
              "    </tr>\n",
              "    <tr>\n",
              "      <th>mean</th>\n",
              "      <td>100.500000</td>\n",
              "      <td>147.042500</td>\n",
              "      <td>23.264000</td>\n",
              "      <td>30.554000</td>\n",
              "      <td>14.022500</td>\n",
              "    </tr>\n",
              "    <tr>\n",
              "      <th>std</th>\n",
              "      <td>57.879185</td>\n",
              "      <td>85.854236</td>\n",
              "      <td>14.846809</td>\n",
              "      <td>21.778621</td>\n",
              "      <td>5.217457</td>\n",
              "    </tr>\n",
              "    <tr>\n",
              "      <th>min</th>\n",
              "      <td>1.000000</td>\n",
              "      <td>0.700000</td>\n",
              "      <td>0.000000</td>\n",
              "      <td>0.300000</td>\n",
              "      <td>1.600000</td>\n",
              "    </tr>\n",
              "    <tr>\n",
              "      <th>25%</th>\n",
              "      <td>50.750000</td>\n",
              "      <td>74.375000</td>\n",
              "      <td>9.975000</td>\n",
              "      <td>12.750000</td>\n",
              "      <td>10.375000</td>\n",
              "    </tr>\n",
              "    <tr>\n",
              "      <th>50%</th>\n",
              "      <td>100.500000</td>\n",
              "      <td>149.750000</td>\n",
              "      <td>22.900000</td>\n",
              "      <td>25.750000</td>\n",
              "      <td>12.900000</td>\n",
              "    </tr>\n",
              "    <tr>\n",
              "      <th>75%</th>\n",
              "      <td>150.250000</td>\n",
              "      <td>218.825000</td>\n",
              "      <td>36.525000</td>\n",
              "      <td>45.100000</td>\n",
              "      <td>17.400000</td>\n",
              "    </tr>\n",
              "    <tr>\n",
              "      <th>max</th>\n",
              "      <td>200.000000</td>\n",
              "      <td>296.400000</td>\n",
              "      <td>49.600000</td>\n",
              "      <td>114.000000</td>\n",
              "      <td>27.000000</td>\n",
              "    </tr>\n",
              "  </tbody>\n",
              "</table>\n",
              "</div>\n",
              "      <button class=\"colab-df-convert\" onclick=\"convertToInteractive('df-3f018b25-2e74-4357-92ac-12e0e74a4564')\"\n",
              "              title=\"Convert this dataframe to an interactive table.\"\n",
              "              style=\"display:none;\">\n",
              "        \n",
              "  <svg xmlns=\"http://www.w3.org/2000/svg\" height=\"24px\"viewBox=\"0 0 24 24\"\n",
              "       width=\"24px\">\n",
              "    <path d=\"M0 0h24v24H0V0z\" fill=\"none\"/>\n",
              "    <path d=\"M18.56 5.44l.94 2.06.94-2.06 2.06-.94-2.06-.94-.94-2.06-.94 2.06-2.06.94zm-11 1L8.5 8.5l.94-2.06 2.06-.94-2.06-.94L8.5 2.5l-.94 2.06-2.06.94zm10 10l.94 2.06.94-2.06 2.06-.94-2.06-.94-.94-2.06-.94 2.06-2.06.94z\"/><path d=\"M17.41 7.96l-1.37-1.37c-.4-.4-.92-.59-1.43-.59-.52 0-1.04.2-1.43.59L10.3 9.45l-7.72 7.72c-.78.78-.78 2.05 0 2.83L4 21.41c.39.39.9.59 1.41.59.51 0 1.02-.2 1.41-.59l7.78-7.78 2.81-2.81c.8-.78.8-2.07 0-2.86zM5.41 20L4 18.59l7.72-7.72 1.47 1.35L5.41 20z\"/>\n",
              "  </svg>\n",
              "      </button>\n",
              "      \n",
              "  <style>\n",
              "    .colab-df-container {\n",
              "      display:flex;\n",
              "      flex-wrap:wrap;\n",
              "      gap: 12px;\n",
              "    }\n",
              "\n",
              "    .colab-df-convert {\n",
              "      background-color: #E8F0FE;\n",
              "      border: none;\n",
              "      border-radius: 50%;\n",
              "      cursor: pointer;\n",
              "      display: none;\n",
              "      fill: #1967D2;\n",
              "      height: 32px;\n",
              "      padding: 0 0 0 0;\n",
              "      width: 32px;\n",
              "    }\n",
              "\n",
              "    .colab-df-convert:hover {\n",
              "      background-color: #E2EBFA;\n",
              "      box-shadow: 0px 1px 2px rgba(60, 64, 67, 0.3), 0px 1px 3px 1px rgba(60, 64, 67, 0.15);\n",
              "      fill: #174EA6;\n",
              "    }\n",
              "\n",
              "    [theme=dark] .colab-df-convert {\n",
              "      background-color: #3B4455;\n",
              "      fill: #D2E3FC;\n",
              "    }\n",
              "\n",
              "    [theme=dark] .colab-df-convert:hover {\n",
              "      background-color: #434B5C;\n",
              "      box-shadow: 0px 1px 3px 1px rgba(0, 0, 0, 0.15);\n",
              "      filter: drop-shadow(0px 1px 2px rgba(0, 0, 0, 0.3));\n",
              "      fill: #FFFFFF;\n",
              "    }\n",
              "  </style>\n",
              "\n",
              "      <script>\n",
              "        const buttonEl =\n",
              "          document.querySelector('#df-3f018b25-2e74-4357-92ac-12e0e74a4564 button.colab-df-convert');\n",
              "        buttonEl.style.display =\n",
              "          google.colab.kernel.accessAllowed ? 'block' : 'none';\n",
              "\n",
              "        async function convertToInteractive(key) {\n",
              "          const element = document.querySelector('#df-3f018b25-2e74-4357-92ac-12e0e74a4564');\n",
              "          const dataTable =\n",
              "            await google.colab.kernel.invokeFunction('convertToInteractive',\n",
              "                                                     [key], {});\n",
              "          if (!dataTable) return;\n",
              "\n",
              "          const docLinkHtml = 'Like what you see? Visit the ' +\n",
              "            '<a target=\"_blank\" href=https://colab.research.google.com/notebooks/data_table.ipynb>data table notebook</a>'\n",
              "            + ' to learn more about interactive tables.';\n",
              "          element.innerHTML = '';\n",
              "          dataTable['output_type'] = 'display_data';\n",
              "          await google.colab.output.renderOutput(dataTable, element);\n",
              "          const docLink = document.createElement('div');\n",
              "          docLink.innerHTML = docLinkHtml;\n",
              "          element.appendChild(docLink);\n",
              "        }\n",
              "      </script>\n",
              "    </div>\n",
              "  </div>\n",
              "  "
            ],
            "text/plain": [
              "       Unnamed: 0          TV       Radio   Newspaper       Sales\n",
              "count  200.000000  200.000000  200.000000  200.000000  200.000000\n",
              "mean   100.500000  147.042500   23.264000   30.554000   14.022500\n",
              "std     57.879185   85.854236   14.846809   21.778621    5.217457\n",
              "min      1.000000    0.700000    0.000000    0.300000    1.600000\n",
              "25%     50.750000   74.375000    9.975000   12.750000   10.375000\n",
              "50%    100.500000  149.750000   22.900000   25.750000   12.900000\n",
              "75%    150.250000  218.825000   36.525000   45.100000   17.400000\n",
              "max    200.000000  296.400000   49.600000  114.000000   27.000000"
            ]
          },
          "metadata": {},
          "execution_count": 3
        }
      ]
    },
    {
      "cell_type": "code",
      "source": [
        "corr=df.corr()\n",
        "corr.style.background_gradient(cmap='coolwarm')"
      ],
      "metadata": {
        "colab": {
          "base_uri": "https://localhost:8080/",
          "height": 206
        },
        "id": "bAjLMaqK18Xr",
        "outputId": "9fbd9882-0d1f-4aad-cf2e-cd2708579ae0"
      },
      "execution_count": 4,
      "outputs": [
        {
          "output_type": "execute_result",
          "data": {
            "text/html": [
              "<style  type=\"text/css\" >\n",
              "#T_4baf40b2_60f5_11ec_8e71_0242ac1c0002row0_col0,#T_4baf40b2_60f5_11ec_8e71_0242ac1c0002row1_col1,#T_4baf40b2_60f5_11ec_8e71_0242ac1c0002row2_col2,#T_4baf40b2_60f5_11ec_8e71_0242ac1c0002row3_col3,#T_4baf40b2_60f5_11ec_8e71_0242ac1c0002row4_col4{\n",
              "            background-color:  #b40426;\n",
              "            color:  #f1f1f1;\n",
              "        }#T_4baf40b2_60f5_11ec_8e71_0242ac1c0002row0_col1,#T_4baf40b2_60f5_11ec_8e71_0242ac1c0002row0_col2,#T_4baf40b2_60f5_11ec_8e71_0242ac1c0002row0_col3,#T_4baf40b2_60f5_11ec_8e71_0242ac1c0002row0_col4,#T_4baf40b2_60f5_11ec_8e71_0242ac1c0002row3_col0{\n",
              "            background-color:  #3b4cc0;\n",
              "            color:  #f1f1f1;\n",
              "        }#T_4baf40b2_60f5_11ec_8e71_0242ac1c0002row1_col0,#T_4baf40b2_60f5_11ec_8e71_0242ac1c0002row1_col2{\n",
              "            background-color:  #6a8bef;\n",
              "            color:  #000000;\n",
              "        }#T_4baf40b2_60f5_11ec_8e71_0242ac1c0002row1_col3{\n",
              "            background-color:  #7597f6;\n",
              "            color:  #000000;\n",
              "        }#T_4baf40b2_60f5_11ec_8e71_0242ac1c0002row1_col4{\n",
              "            background-color:  #ef886b;\n",
              "            color:  #000000;\n",
              "        }#T_4baf40b2_60f5_11ec_8e71_0242ac1c0002row2_col0,#T_4baf40b2_60f5_11ec_8e71_0242ac1c0002row2_col1{\n",
              "            background-color:  #455cce;\n",
              "            color:  #f1f1f1;\n",
              "        }#T_4baf40b2_60f5_11ec_8e71_0242ac1c0002row2_col3{\n",
              "            background-color:  #ccd9ed;\n",
              "            color:  #000000;\n",
              "        }#T_4baf40b2_60f5_11ec_8e71_0242ac1c0002row2_col4{\n",
              "            background-color:  #f1ccb8;\n",
              "            color:  #000000;\n",
              "        }#T_4baf40b2_60f5_11ec_8e71_0242ac1c0002row3_col1{\n",
              "            background-color:  #465ecf;\n",
              "            color:  #f1f1f1;\n",
              "        }#T_4baf40b2_60f5_11ec_8e71_0242ac1c0002row3_col2{\n",
              "            background-color:  #c6d6f1;\n",
              "            color:  #000000;\n",
              "        }#T_4baf40b2_60f5_11ec_8e71_0242ac1c0002row3_col4{\n",
              "            background-color:  #93b5fe;\n",
              "            color:  #000000;\n",
              "        }#T_4baf40b2_60f5_11ec_8e71_0242ac1c0002row4_col0{\n",
              "            background-color:  #5572df;\n",
              "            color:  #000000;\n",
              "        }#T_4baf40b2_60f5_11ec_8e71_0242ac1c0002row4_col1{\n",
              "            background-color:  #f18d6f;\n",
              "            color:  #000000;\n",
              "        }#T_4baf40b2_60f5_11ec_8e71_0242ac1c0002row4_col2{\n",
              "            background-color:  #f4c6af;\n",
              "            color:  #000000;\n",
              "        }#T_4baf40b2_60f5_11ec_8e71_0242ac1c0002row4_col3{\n",
              "            background-color:  #a9c6fd;\n",
              "            color:  #000000;\n",
              "        }</style><table id=\"T_4baf40b2_60f5_11ec_8e71_0242ac1c0002\" class=\"dataframe\"><thead>    <tr>        <th class=\"blank level0\" ></th>        <th class=\"col_heading level0 col0\" >Unnamed: 0</th>        <th class=\"col_heading level0 col1\" >TV</th>        <th class=\"col_heading level0 col2\" >Radio</th>        <th class=\"col_heading level0 col3\" >Newspaper</th>        <th class=\"col_heading level0 col4\" >Sales</th>    </tr></thead><tbody>\n",
              "                <tr>\n",
              "                        <th id=\"T_4baf40b2_60f5_11ec_8e71_0242ac1c0002level0_row0\" class=\"row_heading level0 row0\" >Unnamed: 0</th>\n",
              "                        <td id=\"T_4baf40b2_60f5_11ec_8e71_0242ac1c0002row0_col0\" class=\"data row0 col0\" >1.000000</td>\n",
              "                        <td id=\"T_4baf40b2_60f5_11ec_8e71_0242ac1c0002row0_col1\" class=\"data row0 col1\" >0.017715</td>\n",
              "                        <td id=\"T_4baf40b2_60f5_11ec_8e71_0242ac1c0002row0_col2\" class=\"data row0 col2\" >-0.110680</td>\n",
              "                        <td id=\"T_4baf40b2_60f5_11ec_8e71_0242ac1c0002row0_col3\" class=\"data row0 col3\" >-0.154944</td>\n",
              "                        <td id=\"T_4baf40b2_60f5_11ec_8e71_0242ac1c0002row0_col4\" class=\"data row0 col4\" >-0.051616</td>\n",
              "            </tr>\n",
              "            <tr>\n",
              "                        <th id=\"T_4baf40b2_60f5_11ec_8e71_0242ac1c0002level0_row1\" class=\"row_heading level0 row1\" >TV</th>\n",
              "                        <td id=\"T_4baf40b2_60f5_11ec_8e71_0242ac1c0002row1_col0\" class=\"data row1 col0\" >0.017715</td>\n",
              "                        <td id=\"T_4baf40b2_60f5_11ec_8e71_0242ac1c0002row1_col1\" class=\"data row1 col1\" >1.000000</td>\n",
              "                        <td id=\"T_4baf40b2_60f5_11ec_8e71_0242ac1c0002row1_col2\" class=\"data row1 col2\" >0.054809</td>\n",
              "                        <td id=\"T_4baf40b2_60f5_11ec_8e71_0242ac1c0002row1_col3\" class=\"data row1 col3\" >0.056648</td>\n",
              "                        <td id=\"T_4baf40b2_60f5_11ec_8e71_0242ac1c0002row1_col4\" class=\"data row1 col4\" >0.782224</td>\n",
              "            </tr>\n",
              "            <tr>\n",
              "                        <th id=\"T_4baf40b2_60f5_11ec_8e71_0242ac1c0002level0_row2\" class=\"row_heading level0 row2\" >Radio</th>\n",
              "                        <td id=\"T_4baf40b2_60f5_11ec_8e71_0242ac1c0002row2_col0\" class=\"data row2 col0\" >-0.110680</td>\n",
              "                        <td id=\"T_4baf40b2_60f5_11ec_8e71_0242ac1c0002row2_col1\" class=\"data row2 col1\" >0.054809</td>\n",
              "                        <td id=\"T_4baf40b2_60f5_11ec_8e71_0242ac1c0002row2_col2\" class=\"data row2 col2\" >1.000000</td>\n",
              "                        <td id=\"T_4baf40b2_60f5_11ec_8e71_0242ac1c0002row2_col3\" class=\"data row2 col3\" >0.354104</td>\n",
              "                        <td id=\"T_4baf40b2_60f5_11ec_8e71_0242ac1c0002row2_col4\" class=\"data row2 col4\" >0.576223</td>\n",
              "            </tr>\n",
              "            <tr>\n",
              "                        <th id=\"T_4baf40b2_60f5_11ec_8e71_0242ac1c0002level0_row3\" class=\"row_heading level0 row3\" >Newspaper</th>\n",
              "                        <td id=\"T_4baf40b2_60f5_11ec_8e71_0242ac1c0002row3_col0\" class=\"data row3 col0\" >-0.154944</td>\n",
              "                        <td id=\"T_4baf40b2_60f5_11ec_8e71_0242ac1c0002row3_col1\" class=\"data row3 col1\" >0.056648</td>\n",
              "                        <td id=\"T_4baf40b2_60f5_11ec_8e71_0242ac1c0002row3_col2\" class=\"data row3 col2\" >0.354104</td>\n",
              "                        <td id=\"T_4baf40b2_60f5_11ec_8e71_0242ac1c0002row3_col3\" class=\"data row3 col3\" >1.000000</td>\n",
              "                        <td id=\"T_4baf40b2_60f5_11ec_8e71_0242ac1c0002row3_col4\" class=\"data row3 col4\" >0.228299</td>\n",
              "            </tr>\n",
              "            <tr>\n",
              "                        <th id=\"T_4baf40b2_60f5_11ec_8e71_0242ac1c0002level0_row4\" class=\"row_heading level0 row4\" >Sales</th>\n",
              "                        <td id=\"T_4baf40b2_60f5_11ec_8e71_0242ac1c0002row4_col0\" class=\"data row4 col0\" >-0.051616</td>\n",
              "                        <td id=\"T_4baf40b2_60f5_11ec_8e71_0242ac1c0002row4_col1\" class=\"data row4 col1\" >0.782224</td>\n",
              "                        <td id=\"T_4baf40b2_60f5_11ec_8e71_0242ac1c0002row4_col2\" class=\"data row4 col2\" >0.576223</td>\n",
              "                        <td id=\"T_4baf40b2_60f5_11ec_8e71_0242ac1c0002row4_col3\" class=\"data row4 col3\" >0.228299</td>\n",
              "                        <td id=\"T_4baf40b2_60f5_11ec_8e71_0242ac1c0002row4_col4\" class=\"data row4 col4\" >1.000000</td>\n",
              "            </tr>\n",
              "    </tbody></table>"
            ],
            "text/plain": [
              "<pandas.io.formats.style.Styler at 0x7fd063ae7450>"
            ]
          },
          "metadata": {},
          "execution_count": 4
        }
      ]
    },
    {
      "cell_type": "code",
      "source": [
        "endog = df['Sales']\n",
        "exog = sm.add_constant(df[['TV','Radio','Newspaper']])\n",
        "print(exog)"
      ],
      "metadata": {
        "colab": {
          "base_uri": "https://localhost:8080/"
        },
        "id": "3RZw4-OH2I58",
        "outputId": "e54fb749-9b39-4b6c-8e84-e17199595ffc"
      },
      "execution_count": 5,
      "outputs": [
        {
          "output_type": "stream",
          "name": "stdout",
          "text": [
            "     const     TV  Radio  Newspaper\n",
            "0      1.0  230.1   37.8       69.2\n",
            "1      1.0   44.5   39.3       45.1\n",
            "2      1.0   17.2   45.9       69.3\n",
            "3      1.0  151.5   41.3       58.5\n",
            "4      1.0  180.8   10.8       58.4\n",
            "..     ...    ...    ...        ...\n",
            "195    1.0   38.2    3.7       13.8\n",
            "196    1.0   94.2    4.9        8.1\n",
            "197    1.0  177.0    9.3        6.4\n",
            "198    1.0  283.6   42.0       66.2\n",
            "199    1.0  232.1    8.6        8.7\n",
            "\n",
            "[200 rows x 4 columns]\n"
          ]
        }
      ]
    },
    {
      "cell_type": "code",
      "source": [
        "X=exog.to_numpy()\n",
        "Y= endog.to_numpy()\n",
        "s1_xt =np.transpose(X)\n",
        "print(s1_xt)"
      ],
      "metadata": {
        "colab": {
          "base_uri": "https://localhost:8080/"
        },
        "id": "yHaQ7L3x22uK",
        "outputId": "2a0a443a-2ece-49f4-ef8f-0b6b10c2bd6f"
      },
      "execution_count": 6,
      "outputs": [
        {
          "output_type": "stream",
          "name": "stdout",
          "text": [
            "[[  1.    1.    1.    1.    1.    1.    1.    1.    1.    1.    1.    1.\n",
            "    1.    1.    1.    1.    1.    1.    1.    1.    1.    1.    1.    1.\n",
            "    1.    1.    1.    1.    1.    1.    1.    1.    1.    1.    1.    1.\n",
            "    1.    1.    1.    1.    1.    1.    1.    1.    1.    1.    1.    1.\n",
            "    1.    1.    1.    1.    1.    1.    1.    1.    1.    1.    1.    1.\n",
            "    1.    1.    1.    1.    1.    1.    1.    1.    1.    1.    1.    1.\n",
            "    1.    1.    1.    1.    1.    1.    1.    1.    1.    1.    1.    1.\n",
            "    1.    1.    1.    1.    1.    1.    1.    1.    1.    1.    1.    1.\n",
            "    1.    1.    1.    1.    1.    1.    1.    1.    1.    1.    1.    1.\n",
            "    1.    1.    1.    1.    1.    1.    1.    1.    1.    1.    1.    1.\n",
            "    1.    1.    1.    1.    1.    1.    1.    1.    1.    1.    1.    1.\n",
            "    1.    1.    1.    1.    1.    1.    1.    1.    1.    1.    1.    1.\n",
            "    1.    1.    1.    1.    1.    1.    1.    1.    1.    1.    1.    1.\n",
            "    1.    1.    1.    1.    1.    1.    1.    1.    1.    1.    1.    1.\n",
            "    1.    1.    1.    1.    1.    1.    1.    1.    1.    1.    1.    1.\n",
            "    1.    1.    1.    1.    1.    1.    1.    1.    1.    1.    1.    1.\n",
            "    1.    1.    1.    1.    1.    1.    1.    1. ]\n",
            " [230.1  44.5  17.2 151.5 180.8   8.7  57.5 120.2   8.6 199.8  66.1 214.7\n",
            "   23.8  97.5 204.1 195.4  67.8 281.4  69.2 147.3 218.4 237.4  13.2 228.3\n",
            "   62.3 262.9 142.9 240.1 248.8  70.6 292.9 112.9  97.2 265.6  95.7 290.7\n",
            "  266.9  74.7  43.1 228.  202.5 177.  293.6 206.9  25.1 175.1  89.7 239.9\n",
            "  227.2  66.9 199.8 100.4 216.4 182.6 262.7 198.9   7.3 136.2 210.8 210.7\n",
            "   53.5 261.3 239.3 102.7 131.1  69.   31.5 139.3 237.4 216.8 199.1 109.8\n",
            "   26.8 129.4 213.4  16.9  27.5 120.5   5.4 116.   76.4 239.8  75.3  68.4\n",
            "  213.5 193.2  76.3 110.7  88.3 109.8 134.3  28.6 217.7 250.9 107.4 163.3\n",
            "  197.6 184.9 289.7 135.2 222.4 296.4 280.2 187.9 238.2 137.9  25.   90.4\n",
            "   13.1 255.4 225.8 241.7 175.7 209.6  78.2  75.1 139.2  76.4 125.7  19.4\n",
            "  141.3  18.8 224.  123.1 229.5  87.2   7.8  80.2 220.3  59.6   0.7 265.2\n",
            "    8.4 219.8  36.9  48.3  25.6 273.7  43.  184.9  73.4 193.7 220.5 104.6\n",
            "   96.2 140.3 240.1 243.2  38.   44.7 280.7 121.  197.6 171.3 187.8   4.1\n",
            "   93.9 149.8  11.7 131.7 172.5  85.7 188.4 163.5 117.2 234.5  17.9 206.8\n",
            "  215.4 284.3  50.  164.5  19.6 168.4 222.4 276.9 248.4 170.2 276.7 165.6\n",
            "  156.6 218.5  56.2 287.6 253.8 205.  139.5 191.1 286.   18.7  39.5  75.5\n",
            "   17.2 166.8 149.7  38.2  94.2 177.  283.6 232.1]\n",
            " [ 37.8  39.3  45.9  41.3  10.8  48.9  32.8  19.6   2.1   2.6   5.8  24.\n",
            "   35.1   7.6  32.9  47.7  36.6  39.6  20.5  23.9  27.7   5.1  15.9  16.9\n",
            "   12.6   3.5  29.3  16.7  27.1  16.   28.3  17.4   1.5  20.    1.4   4.1\n",
            "   43.8  49.4  26.7  37.7  22.3  33.4  27.7   8.4  25.7  22.5   9.9  41.5\n",
            "   15.8  11.7   3.1   9.6  41.7  46.2  28.8  49.4  28.1  19.2  49.6  29.5\n",
            "    2.   42.7  15.5  29.6  42.8   9.3  24.6  14.5  27.5  43.9  30.6  14.3\n",
            "   33.    5.7  24.6  43.7   1.6  28.5  29.9   7.7  26.7   4.1  20.3  44.5\n",
            "   43.   18.4  27.5  40.6  25.5  47.8   4.9   1.5  33.5  36.5  14.   31.6\n",
            "    3.5  21.   42.3  41.7   4.3  36.3  10.1  17.2  34.3  46.4  11.    0.3\n",
            "    0.4  26.9   8.2  38.   15.4  20.6  46.8  35.   14.3   0.8  36.9  16.\n",
            "   26.8  21.7   2.4  34.6  32.3  11.8  38.9   0.   49.   12.   39.6   2.9\n",
            "   27.2  33.5  38.6  47.   39.   28.9  25.9  43.9  17.   35.4  33.2   5.7\n",
            "   14.8   1.9   7.3  49.   40.3  25.8  13.9   8.4  23.3  39.7  21.1  11.6\n",
            "   43.5   1.3  36.9  18.4  18.1  35.8  18.1  36.8  14.7   3.4  37.6   5.2\n",
            "   23.6  10.6  11.6  20.9  20.1   7.1   3.4  48.9  30.2   7.8   2.3  10.\n",
            "    2.6   5.4   5.7  43.   21.3  45.1   2.1  28.7  13.9  12.1  41.1  10.8\n",
            "    4.1  42.   35.6   3.7   4.9   9.3  42.    8.6]\n",
            " [ 69.2  45.1  69.3  58.5  58.4  75.   23.5  11.6   1.   21.2  24.2   4.\n",
            "   65.9   7.2  46.   52.9 114.   55.8  18.3  19.1  53.4  23.5  49.6  26.2\n",
            "   18.3  19.5  12.6  22.9  22.9  40.8  43.2  38.6  30.    0.3   7.4   8.5\n",
            "    5.   45.7  35.1  32.   31.6  38.7   1.8  26.4  43.3  31.5  35.7  18.5\n",
            "   49.9  36.8  34.6   3.6  39.6  58.7  15.9  60.   41.4  16.6  37.7   9.3\n",
            "   21.4  54.7  27.3   8.4  28.9   0.9   2.2  10.2  11.   27.2  38.7  31.7\n",
            "   19.3  31.3  13.1  89.4  20.7  14.2   9.4  23.1  22.3  36.9  32.5  35.6\n",
            "   33.8  65.7  16.   63.2  73.4  51.4   9.3  33.   59.   72.3  10.9  52.9\n",
            "    5.9  22.   51.2  45.9  49.8 100.9  21.4  17.9   5.3  59.   29.7  23.2\n",
            "   25.6   5.5  56.5  23.2   2.4  10.7  34.5  52.7  25.6  14.8  79.2  22.3\n",
            "   46.2  50.4  15.6  12.4  74.2  25.9  50.6   9.2   3.2  43.1   8.7  43.\n",
            "    2.1  45.1  65.6   8.5   9.3  59.7  20.5   1.7  12.9  75.6  37.9  34.4\n",
            "   38.9   9.    8.7  44.3  11.9  20.6  37.   48.7  14.2  37.7   9.5   5.7\n",
            "   50.5  24.3  45.2  34.6  30.7  49.3  25.6   7.4   5.4  84.8  21.6  19.4\n",
            "   57.6   6.4  18.4  47.4  17.   12.8  13.1  41.8  20.3  35.2  23.7  17.6\n",
            "    8.3  27.4  29.7  71.8  30.   19.6  26.6  18.2   3.7  23.4   5.8   6.\n",
            "   31.6   3.6   6.   13.8   8.1   6.4  66.2   8.7]]\n"
          ]
        }
      ]
    },
    {
      "cell_type": "code",
      "source": [
        "s2_mul1= np.matmul(s1_xt,X)\n",
        "print(s2_mul1)"
      ],
      "metadata": {
        "colab": {
          "base_uri": "https://localhost:8080/"
        },
        "id": "TqnkFYLE29oL",
        "outputId": "106767e7-cc26-4513-e0b6-c18969b2b7fb"
      },
      "execution_count": 7,
      "outputs": [
        {
          "output_type": "stream",
          "name": "stdout",
          "text": [
            "[[2.00000000e+02 2.94085000e+04 4.65280000e+03 6.11080000e+03]\n",
            " [2.94085000e+04 5.79111839e+06 6.98061980e+05 9.19625280e+05]\n",
            " [4.65280000e+03 6.98061980e+05 1.52107860e+05 1.64946550e+05]\n",
            " [6.11080000e+03 9.19625280e+05 1.64946550e+05 2.81096740e+05]]\n"
          ]
        }
      ]
    },
    {
      "cell_type": "code",
      "source": [
        "s3_inv=np.linalg.inv(s2_mul1)\n",
        "print(s3_inv)"
      ],
      "metadata": {
        "colab": {
          "base_uri": "https://localhost:8080/"
        },
        "id": "-96zbg993Bpv",
        "outputId": "a70f8ddc-764a-47ff-c491-261d15ad6660"
      },
      "execution_count": 8,
      "outputs": [
        {
          "output_type": "stream",
          "name": "stdout",
          "text": [
            "[[ 3.42444998e-02 -9.35348333e-05 -3.92647297e-04 -2.08036831e-04]\n",
            " [-9.35348333e-05  6.84890750e-07 -1.57355890e-07 -1.14959987e-07]\n",
            " [-3.92647297e-04 -1.57355890e-07  2.61016474e-05 -6.26574016e-06]\n",
            " [-2.08036831e-04 -1.14959987e-07 -6.26574016e-06  1.21328472e-05]]\n"
          ]
        }
      ]
    },
    {
      "cell_type": "code",
      "source": [
        "s4_mul= np.matmul(s3_inv,s1_xt)\n",
        "print(s4_mul)"
      ],
      "metadata": {
        "colab": {
          "base_uri": "https://localhost:8080/"
        },
        "id": "rB3gV1x03FNd",
        "outputId": "9a99db53-2de0-4556-988e-94cb155dfb36"
      },
      "execution_count": 9,
      "outputs": [
        {
          "output_type": "stream",
          "name": "stdout",
          "text": [
            "[[-1.65160819e-02  5.26869984e-03  1.96237324e-04 -8.31251544e-03\n",
            "   9.43460192e-04 -1.37246842e-03  1.10985500e-02  1.28924985e-02\n",
            "   3.24075040e-02  1.01249763e-02  2.07500017e-02  3.90688861e-03\n",
            "   4.52682346e-03  2.06428689e-02 -7.33374999e-03 -1.37666311e-02\n",
            "  -1.01842517e-02 -1.92334904e-02  1.59155457e-02  7.10904496e-03\n",
            "  -8.16900471e-03  5.14796362e-03  1.64481211e-02  8.04193048e-04\n",
            "   1.96628497e-02  4.22320837e-03  6.75254222e-03  4.65533016e-04\n",
            "  -4.43175192e-03  1.28706811e-02 -1.32509625e-02  8.82213246e-03\n",
            "   1.83228381e-02  1.48629106e-03  2.32040375e-02  3.67575676e-03\n",
            "  -8.95808300e-03 -1.64661192e-03  1.24273729e-02 -8.54142390e-03\n",
            "  -2.63025454e-05 -3.47661079e-03 -4.46812371e-03  6.10173314e-03\n",
            "   1.27977451e-02  2.47882611e-03  1.45403021e-02 -8.33805093e-03\n",
            "  -3.59147950e-03  1.57372907e-02  7.14095912e-03  2.03352559e-02\n",
            "  -1.06080889e-02 -1.31870279e-02 -4.94312870e-03 -1.62385649e-02\n",
            "   1.39155816e-02  1.05128160e-02 -1.27909375e-02  1.01887261e-03\n",
            "   2.40031034e-02 -1.83418064e-02  9.61755842e-05  1.12686030e-02\n",
            "  -8.35485602e-04  2.39517433e-02  2.11813480e-02  1.33997360e-02\n",
            "  -1.04687546e-03 -8.92967023e-03 -4.44431818e-03  1.17647512e-02\n",
            "   1.47652946e-02  1.33914499e-02  1.89976036e-03 -3.09341847e-03\n",
            "   2.67376938e-02  8.82898139e-03  2.00437113e-02  1.55654241e-02\n",
            "   1.19755343e-02  2.52843378e-03  1.24693897e-02  2.96780127e-03\n",
            "  -9.64066579e-03 -4.71916006e-03  1.29814020e-02 -5.19921424e-03\n",
            "   7.02964538e-04 -5.48725883e-03  1.78240574e-02  2.41152172e-02\n",
            "  -1.15458909e-02 -1.85960791e-02  1.64341951e-02 -4.44254144e-03\n",
            "   1.31603339e-02  4.12750558e-03 -2.01130078e-02 -4.32369251e-03\n",
            "   1.39373531e-03 -2.87232379e-02 -3.81686390e-04  6.19191182e-03\n",
            "  -2.60589501e-03 -9.14696134e-03  2.14083148e-02  2.08447022e-02\n",
            "   2.75363917e-02 -1.35071151e-03 -1.84945435e-03 -8.10992120e-03\n",
            "   1.12643728e-02  4.32507031e-03  1.37691164e-03  2.51383741e-03\n",
            "   1.02838518e-02  2.37053756e-02 -8.47803103e-03  2.15083459e-02\n",
            "   8.93778684e-04  1.34805423e-02  9.10496905e-03  6.56510861e-03\n",
            "  -1.53405850e-02  1.60668703e-02  7.71428457e-03  2.48290673e-02\n",
            "  -6.26665942e-03  1.49916687e-02  1.68202720e-02 -6.45198893e-04\n",
            "   2.23419233e-02 -8.85060210e-03  1.98966265e-03  9.50403129e-03\n",
            "   1.46020209e-02 -1.51232898e-02  1.57881819e-02 -6.40969864e-04\n",
            "   1.80203638e-02 -1.35004962e-02 -7.30041712e-03  1.50661996e-02\n",
            "   1.13426361e-02  1.85032013e-02  7.11054061e-03 -1.69589208e-02\n",
            "   1.23908517e-02  1.56476337e-02 -5.16588809e-03  9.49715399e-03\n",
            "   3.65921169e-03 -5.20910339e-03  6.41745022e-03  2.81204884e-02\n",
            "  -2.12443846e-03  1.46672453e-02  9.25819220e-03  7.50317762e-03\n",
            "   4.61609425e-03  1.91557556e-03  4.18987824e-03  2.96266144e-03\n",
            "   1.63869032e-02 -6.66594268e-03  1.33130923e-02  8.82381579e-03\n",
            "  -7.15230098e-03  2.15904961e-03  2.11851718e-02  7.90745410e-04\n",
            "   2.09823802e-02  1.30425666e-02  9.38206956e-03 -1.95516879e-02\n",
            "  -5.07064885e-03  7.93932579e-03  2.52984973e-03  1.11672102e-02\n",
            "   1.68493562e-02  5.98663414e-03  2.05710587e-02 -2.44769965e-02\n",
            "  -4.09913326e-03 -6.71605604e-03  1.48380515e-02  1.31474538e-03\n",
            "   1.26600375e-03  2.28763043e-02  1.32054563e-02  2.16938081e-02\n",
            "   2.44518829e-02  1.40277050e-03  5.01587046e-03  2.63477659e-02\n",
            "   2.18244484e-02  1.27057787e-02 -2.25452036e-02  7.34837779e-03]\n",
            " [ 5.01552446e-05 -7.44259768e-05 -9.69440748e-05 -2.99784212e-06\n",
            "   2.18803075e-05 -1.03892986e-04 -6.20164480e-05 -1.56286764e-05\n",
            "  -8.80901802e-05  4.04600616e-05 -5.19582505e-05  4.92748295e-05\n",
            "  -9.03334883e-05 -2.87816018e-05  3.57862007e-05  2.67055600e-05\n",
            "  -6.59639045e-05  8.65473633e-05 -5.14699569e-05  1.39303272e-06\n",
            "   4.55476851e-05  6.55541561e-05 -9.26982494e-05  5.71544588e-05\n",
            "  -5.49525915e-05  8.37304796e-05 -1.72296847e-06  6.56470088e-05\n",
            "   6.99690571e-05 -5.23896080e-05  9.76502243e-05 -2.33861156e-05\n",
            "  -3.06482858e-05  8.51905442e-05 -2.90617906e-05  1.03940589e-04\n",
            "   8.17955200e-05 -5.54005466e-05 -7.22525397e-05  5.30092211e-05\n",
            "   3.80137717e-05  1.79861913e-05  1.02983405e-04  4.38123298e-05\n",
            "  -8.53658892e-05  1.92277900e-05 -3.77620278e-05  6.21134285e-05\n",
            "   5.38496188e-05 -5.37872335e-05  3.88409198e-05 -2.66962744e-05\n",
            "   4.35613690e-05  1.75082244e-05  8.00262534e-05  2.80189567e-05\n",
            "  -9.77161748e-05 -5.18228196e-06  3.87012932e-05  4.50605212e-05\n",
            "  -5.96680336e-05  7.24197120e-05  6.47820993e-05 -2.88199514e-05\n",
            "  -1.38028316e-05 -4.78442453e-05 -7.60846415e-05 -1.58380403e-06\n",
            "   6.34663840e-05  4.49146462e-05  3.35628734e-05 -2.42282497e-05\n",
            "  -8.25912333e-05 -9.40514636e-06  4.72439221e-05 -9.91140548e-05\n",
            "  -7.73317788e-05 -1.71225725e-05 -9.56219882e-05 -1.79547223e-05\n",
            "  -4.79741899e-05  6.58147860e-05 -4.88930839e-05 -5.77832186e-05\n",
            "   4.20373911e-05  2.83378401e-05 -4.74443158e-05 -3.13715475e-05\n",
            "  -4.55096183e-05 -3.17643838e-05 -3.39417725e-06 -7.79766712e-05\n",
            "   4.35118215e-05  6.42491589e-05 -2.34336130e-05  7.25399680e-06\n",
            "   4.05705694e-05  2.72678730e-05  9.23359116e-05 -1.27760079e-05\n",
            "   5.23832319e-05  9.21553036e-05  9.43221167e-05  3.03918336e-05\n",
            "   6.35995485e-05 -1.31723514e-05 -8.15577909e-05 -3.43349879e-05\n",
            "  -8.75686825e-05  7.65211110e-05  5.33279406e-05  6.33566655e-05\n",
            "   2.41012869e-05  4.55466648e-05 -5.13067518e-05 -5.36653854e-05\n",
            "  -3.39120573e-06 -4.30364725e-05 -2.23553293e-05 -8.53292547e-05\n",
            "  -6.28805952e-06 -8.98674933e-05  5.77096648e-05 -1.60947995e-05\n",
            "   5.00349676e-05 -3.86466230e-05 -1.00130805e-04 -3.96642270e-05\n",
            "   4.92682884e-05 -5.95583907e-05 -1.00286855e-04  8.26985822e-05\n",
            "  -9.23032471e-05  4.65480359e-05 -8.18776771e-05 -6.88274967e-05\n",
            "  -8.32076376e-05  8.25090686e-05 -7.05167283e-05  2.59981109e-05\n",
            "  -4.74218862e-05  2.48671315e-05  4.79023781e-05 -2.67468129e-05\n",
            "  -3.44491538e-05  1.22172292e-06  6.87585860e-05  6.02274311e-05\n",
            "  -7.52184510e-05 -6.93481744e-05  9.22732339e-05 -1.75833933e-05\n",
            "   3.65007549e-05  1.32059319e-05  3.06753205e-05 -9.32073814e-05\n",
            "  -4.18740524e-05  6.06371077e-06 -9.65242352e-05 -1.02076854e-05\n",
            "   1.82314079e-05 -4.61405642e-05  2.97074668e-05  1.18034037e-05\n",
            "  -1.61995528e-05  5.67884307e-05 -8.96750060e-05  4.50520995e-05\n",
            "   4.36553401e-05  9.87758907e-05 -6.32308878e-05  1.03918536e-05\n",
            "  -8.52281477e-05  1.92120544e-05  5.67438837e-05  8.36113850e-05\n",
            "   6.95061935e-05  1.77596049e-05  9.28879671e-05  1.62862203e-05\n",
            "   1.23557650e-05  5.21141702e-05 -5.93552133e-05  8.84193161e-05\n",
            "   7.34899591e-05  3.75178041e-05 -1.38095664e-06  3.07394033e-05\n",
            "   9.97313225e-05 -8.53214462e-05 -7.36157436e-05 -4.42147852e-05\n",
            "  -8.60326071e-05  1.36821405e-05  2.70168244e-06 -6.95406712e-05\n",
            "  -3.07203443e-05  2.54916758e-05  8.64808850e-05  6.30748973e-05]\n",
            " [ 1.24198166e-04  3.43560228e-04  3.68496005e-04  2.94965524e-04\n",
            "  -5.05118675e-04  4.12423753e-04  3.07193881e-04  2.73482283e-05\n",
            "  -3.45452838e-04 -4.89056412e-04 -4.03289878e-04  1.74944971e-04\n",
            "   1.06863180e-04 -2.54730305e-04  1.45756518e-04  4.90196289e-04\n",
            "  -1.62290109e-04  2.47069692e-04  1.68844023e-05  8.83279164e-05\n",
            "  -3.85887147e-05 -4.44130077e-04 -2.90488913e-04 -1.51616198e-04\n",
            "  -1.88232857e-04 -4.64842328e-04  2.70696489e-04 -1.38016384e-04\n",
            "   1.32071753e-04 -2.41772463e-04  2.92598096e-05 -1.98101682e-04\n",
            "  -5.56762023e-04  8.57122047e-05 -4.17530427e-04 -3.84632691e-04\n",
            "   6.77277872e-04  5.98675275e-04  7.75571704e-05  3.55003982e-04\n",
            "  -4.04425166e-05  2.08811590e-04  2.72890315e-04 -3.71365933e-04\n",
            "   2.90885965e-06 -3.02840617e-05 -3.72042735e-04  5.36905200e-04\n",
            "  -3.28652960e-04 -3.28364369e-04 -5.59966507e-04 -1.80426678e-04\n",
            "   4.13616275e-04  4.16716681e-04  2.18117488e-04  4.89531589e-04\n",
            "   8.02586546e-05 -1.69388257e-05  6.32605389e-04  2.85925032e-04\n",
            "  -4.82949382e-04  3.38039967e-04 -1.96781733e-04  3.11168799e-04\n",
            "   5.22793964e-04 -1.66398699e-04  2.30711890e-04 -1.00003635e-04\n",
            "   2.18868577e-04  5.48672135e-04  1.32249412e-04 -2.35295379e-04\n",
            "   3.43561145e-04 -4.60347426e-04  1.33792286e-04  1.85178210e-04\n",
            "  -4.84912770e-04  2.43314759e-04  3.28044281e-04 -3.54656493e-04\n",
            "   1.52518693e-04 -5.54570297e-04 -7.82693084e-05  5.35052520e-04\n",
            "   4.84346042e-04 -3.54437271e-04  2.12889910e-04  2.53665513e-04\n",
            "  -2.00855141e-04  5.15674728e-04 -3.44153504e-04 -5.64764630e-04\n",
            "   7.78228446e-05  6.75692272e-05 -1.12420824e-04  7.50108899e-05\n",
            "  -3.69352922e-04 -1.14540890e-05  3.45060491e-04  3.86919410e-04\n",
            "  -6.27440023e-04 -1.24010964e-04 -3.07198618e-04 -8.54228822e-05\n",
            "   4.31948613e-04  4.27091096e-04 -2.95555556e-04 -5.44406947e-04\n",
            "  -5.44670949e-04  2.34836753e-04 -5.68159067e-04  4.15817214e-04\n",
            "  -3.33671333e-05  4.50214253e-05  6.00436536e-04  1.78888429e-04\n",
            "  -2.01700627e-04 -4.76520924e-04  5.44772365e-05 -1.17799648e-04\n",
            "  -4.83472907e-06 -1.44993143e-04 -4.62996609e-04  4.13404015e-04\n",
            "  -5.05951822e-05 -2.60651961e-04  3.04432959e-04 -4.62912049e-04\n",
            "   8.31617555e-04 -3.58859340e-04  5.86355852e-04 -6.28110129e-04\n",
            "   3.02837669e-04  1.64586185e-04  1.98037306e-04  7.73271051e-04\n",
            "   5.63017258e-04 -5.54426815e-05  1.48171394e-04  7.13468162e-04\n",
            "  -4.12972615e-05  2.71812294e-05  2.01758871e-04 -4.75868795e-04\n",
            "  -2.65217844e-04 -4.21522860e-04 -2.94398360e-04  5.70492185e-04\n",
            "   5.78707262e-04  1.44667151e-04 -3.05836582e-04 -4.97575067e-04\n",
            "   9.54540535e-05  3.80414637e-04  6.90214956e-05 -1.26228065e-04\n",
            "   4.11578769e-04 -5.34544554e-04  2.85450973e-04 -1.49895365e-04\n",
            "  -1.39709593e-04  2.19405291e-04 -1.10256277e-04  4.95799163e-04\n",
            "  -6.12301874e-05 -8.72136418e-04  4.50617988e-04 -4.11015288e-04\n",
            "  -1.71449510e-04 -2.00806851e-04 -2.13025601e-04 -1.70003994e-04\n",
            "   2.23940577e-05 -3.14025807e-04 -4.20978842e-04  5.78243477e-04\n",
            "   2.29340726e-04 -4.36390473e-04 -5.24651925e-04 -2.67965985e-04\n",
            "  -4.01430590e-04 -4.57761944e-04 -4.38803791e-04  2.34587844e-04\n",
            "  -6.45913369e-05  6.29470537e-04 -5.26453673e-04  2.12362802e-04\n",
            "  -9.80214213e-05 -2.26378238e-04  6.37573561e-04 -1.60224316e-04\n",
            "  -4.86334453e-04  6.54818267e-04  4.75420733e-04 -3.88549411e-04\n",
            "  -3.30324645e-04 -2.17854706e-04  2.44203765e-04 -2.59207371e-04]\n",
            " [ 3.68258925e-04  8.77952708e-05  3.43194696e-04  2.25543225e-04\n",
            "   4.12066687e-04  3.94531864e-04 -1.35041398e-04 -2.03922501e-04\n",
            "  -2.10050694e-04  9.91960031e-06  4.16379237e-05 -3.34565115e-04\n",
            "   3.68854273e-04 -1.79508555e-04  1.20467956e-04  1.12451800e-04\n",
            "   9.37987374e-04  1.88502993e-04 -1.22408631e-04 -1.42984245e-04\n",
            "   2.41188947e-04  1.78383030e-05  2.92609651e-04 -2.22926076e-05\n",
            "  -7.21160599e-05 -2.35993813e-05 -2.55176925e-04 -6.24343832e-05\n",
            "  -1.28598233e-04  1.78615318e-04  1.05109942e-04  1.38288210e-04\n",
            "   1.35375865e-04 -3.60245152e-04 -1.38027468e-04 -1.64016032e-04\n",
            "  -4.52494834e-04  2.83192119e-05  4.55760687e-05 -8.22150011e-05\n",
            "   1.23557382e-05  3.18807173e-05 -3.93510960e-04  3.58528970e-05\n",
            "   1.53400436e-04  1.30392091e-05  1.52763076e-04 -2.71186275e-04\n",
            "   2.72274642e-04  1.57451964e-04  1.69366883e-04 -2.36051669e-04\n",
            "  -1.37347870e-05  1.93692412e-04 -2.25777865e-04  1.87540897e-04\n",
            "   1.17356537e-04 -1.42591328e-04 -8.56427681e-05 -3.04262756e-04\n",
            "   3.29242600e-05  1.58043762e-04 -1.43899926e-06 -3.03393214e-04\n",
            "  -1.40642479e-04 -2.63320891e-04 -3.39103014e-04 -1.91148948e-04\n",
            "  -2.74174867e-04 -1.78012705e-04  4.68841740e-05  7.43517350e-05\n",
            "  -1.83723232e-04  1.21130746e-04 -2.27766201e-04  6.00884041e-04\n",
            "   2.99265227e-05 -2.28176673e-04 -2.81954482e-04  1.06503821e-05\n",
            "  -1.13552543e-04  1.86408292e-04  5.04296914e-05 -6.27961702e-05\n",
            "  -9.19173791e-05  4.51591343e-04 -1.94990577e-04  2.91643992e-04\n",
            "   5.12586814e-04  1.03466530e-04 -1.41342605e-04  1.79660661e-04\n",
            "   2.72872070e-04  4.11625046e-04 -1.75855861e-04  2.17020432e-04\n",
            "  -1.81099216e-04 -9.39508370e-05  1.14820229e-04  7.20369014e-05\n",
            "   3.43669177e-04  7.54646945e-04 -4.38896644e-05 -1.20230578e-04\n",
            "  -3.86031097e-04  2.01217829e-04  8.05115901e-05  6.11731197e-05\n",
            "   9.85517860e-05 -3.39215362e-04  4.00132002e-04 -1.92438730e-04\n",
            "  -2.95608866e-04 -2.31385226e-04 -9.16801124e-05  2.03429817e-04\n",
            "  -3.03845659e-06 -4.22662271e-05  5.07228386e-04 -3.99564042e-05\n",
            "   1.68335028e-04  2.65330860e-04 -5.95532277e-05 -2.88535709e-04\n",
            "   4.63453708e-04  2.22436673e-05  1.61251258e-04 -1.05634427e-04\n",
            "  -5.01558673e-04  2.32848387e-04 -3.50684842e-04  2.65017564e-04\n",
            "  -3.53951648e-04  1.03984078e-04  3.41778353e-04 -4.04949984e-04\n",
            "  -3.42508194e-04  3.03749709e-04 -1.26539412e-04 -4.83733085e-04\n",
            "  -1.66478747e-04  4.65131467e-04  1.84268281e-05  1.61593580e-04\n",
            "   1.60138821e-04 -1.26874998e-04 -1.75822856e-04 -5.53123597e-06\n",
            "  -3.20533757e-04 -1.24894986e-04  1.21515459e-04  3.16290453e-04\n",
            "  -2.04458239e-04 -1.90710210e-05 -2.46571385e-04 -2.12033523e-04\n",
            "   1.21317514e-04  6.14248882e-05  1.07817020e-04  8.13298336e-05\n",
            "   3.12010840e-05  1.55946968e-04 -3.25043006e-05 -3.67628957e-04\n",
            "  -2.48099147e-04  7.72566979e-04 -1.83616945e-04 -2.90151690e-05\n",
            "   3.18181320e-04 -2.29486579e-04 -6.32230272e-05  2.17195240e-04\n",
            "  -1.29973021e-04 -1.16582403e-04 -9.59671499e-05 -3.91109315e-05\n",
            "  -1.79521446e-04  1.50600428e-04  3.32910174e-05 -7.61934953e-05\n",
            "  -1.41627857e-04  6.54494288e-05  1.10133261e-04  3.60612280e-04\n",
            "  -6.68852453e-06 -2.76384704e-04  8.55019326e-05 -1.89014608e-04\n",
            "  -2.83117641e-04 -2.09341363e-06 -3.99729157e-04 -2.11589220e-04\n",
            "   1.47694295e-04 -4.46694993e-04 -3.75509607e-04 -6.81782493e-05\n",
            "  -1.51292126e-04 -2.09005910e-04  2.99393916e-04 -1.83048638e-04]]\n"
          ]
        }
      ]
    },
    {
      "cell_type": "code",
      "source": [
        "s5_res =np.matmul(s4_mul,Y)\n",
        "print(s5_res)"
      ],
      "metadata": {
        "colab": {
          "base_uri": "https://localhost:8080/"
        },
        "id": "c-2N8kPs3Or5",
        "outputId": "7fa404c3-3480-4d53-c710-8b0d980153ab"
      },
      "execution_count": 10,
      "outputs": [
        {
          "output_type": "stream",
          "name": "stdout",
          "text": [
            "[ 2.93888937e+00  4.57646455e-02  1.88530017e-01 -1.03749304e-03]\n"
          ]
        }
      ]
    },
    {
      "cell_type": "code",
      "source": [
        "mod = sm.OLS(endog, exog)\n",
        "results = mod.fit()\n",
        "print (results.summary())"
      ],
      "metadata": {
        "colab": {
          "base_uri": "https://localhost:8080/"
        },
        "id": "ILa7Iqpb3S91",
        "outputId": "ba703605-a95f-450d-d7f2-0729165d67ad"
      },
      "execution_count": 11,
      "outputs": [
        {
          "output_type": "stream",
          "name": "stdout",
          "text": [
            "                            OLS Regression Results                            \n",
            "==============================================================================\n",
            "Dep. Variable:                  Sales   R-squared:                       0.897\n",
            "Model:                            OLS   Adj. R-squared:                  0.896\n",
            "Method:                 Least Squares   F-statistic:                     570.3\n",
            "Date:                Sun, 19 Dec 2021   Prob (F-statistic):           1.58e-96\n",
            "Time:                        18:04:03   Log-Likelihood:                -386.18\n",
            "No. Observations:                 200   AIC:                             780.4\n",
            "Df Residuals:                     196   BIC:                             793.6\n",
            "Df Model:                           3                                         \n",
            "Covariance Type:            nonrobust                                         \n",
            "==============================================================================\n",
            "                 coef    std err          t      P>|t|      [0.025      0.975]\n",
            "------------------------------------------------------------------------------\n",
            "const          2.9389      0.312      9.422      0.000       2.324       3.554\n",
            "TV             0.0458      0.001     32.809      0.000       0.043       0.049\n",
            "Radio          0.1885      0.009     21.893      0.000       0.172       0.206\n",
            "Newspaper     -0.0010      0.006     -0.177      0.860      -0.013       0.011\n",
            "==============================================================================\n",
            "Omnibus:                       60.414   Durbin-Watson:                   2.084\n",
            "Prob(Omnibus):                  0.000   Jarque-Bera (JB):              151.241\n",
            "Skew:                          -1.327   Prob(JB):                     1.44e-33\n",
            "Kurtosis:                       6.332   Cond. No.                         454.\n",
            "==============================================================================\n",
            "\n",
            "Warnings:\n",
            "[1] Standard Errors assume that the covariance matrix of the errors is correctly specified.\n"
          ]
        }
      ]
    },
    {
      "cell_type": "code",
      "source": [
        "def RSE(y_true, y_predicted):\n",
        "   \n",
        "    y_true = np.array(y_true)\n",
        "    y_predicted = np.array(y_predicted)\n",
        "    RSS = np.sum(np.square(y_true - y_predicted))\n",
        "\n",
        "    rse = math.sqrt(RSS / (len(y_true) - 2))\n",
        "    return rse"
      ],
      "metadata": {
        "id": "7ciAF2E03Xui"
      },
      "execution_count": 12,
      "outputs": []
    },
    {
      "cell_type": "code",
      "source": [
        "yp= results.predict()\n",
        "ypa = np.array(yp)\n",
        "yta = df['Sales']\n",
        "eterms =yta-ypa\n",
        "\n",
        "\n",
        "df1 = pd.DataFrame(eterms)\n",
        "df1['Sales'].hist(bins=10)\n",
        "\n",
        "\n",
        "\n",
        "\n"
      ],
      "metadata": {
        "colab": {
          "base_uri": "https://localhost:8080/",
          "height": 282
        },
        "id": "Gmkqp_Jn3at1",
        "outputId": "eb2dced6-1519-4ca2-f83d-93c44d21d804"
      },
      "execution_count": 13,
      "outputs": [
        {
          "output_type": "execute_result",
          "data": {
            "text/plain": [
              "<matplotlib.axes._subplots.AxesSubplot at 0x7fd05b2867d0>"
            ]
          },
          "metadata": {},
          "execution_count": 13
        },
        {
          "output_type": "display_data",
          "data": {
            "image/png": "[encoded data removed]",
            "text/plain": [
              "<Figure size 432x288 with 1 Axes>"
            ]
          },
          "metadata": {
            "needs_background": "light"
          }
        }
      ]
    },
    {
      "cell_type": "code",
      "source": [
        "rse= RSE(df['Sales'],results.predict())\n",
        "print(rse)"
      ],
      "metadata": {
        "colab": {
          "base_uri": "https://localhost:8080/"
        },
        "id": "R0-HdFDl3mrh",
        "outputId": "9aa9425f-ad7d-4903-cca2-1bb8b1b60891"
      },
      "execution_count": 14,
      "outputs": [
        {
          "output_type": "stream",
          "name": "stdout",
          "text": [
            "1.6769760888385674\n"
          ]
        }
      ]
    },
    {
      "cell_type": "code",
      "source": [
        "from sklearn import linear_model\n",
        "X = df[['TV','Radio','Newspaper']]\n",
        "y = df['Sales']\n",
        "\n",
        "lm = linear_model.LinearRegression()\n",
        "model = lm.fit(X,y)\n",
        "lm.coef_"
      ],
      "metadata": {
        "colab": {
          "base_uri": "https://localhost:8080/"
        },
        "id": "1SBI4fob3s_8",
        "outputId": "6e5ef7b6-63ed-45f1-a583-e1db979c8525"
      },
      "execution_count": 15,
      "outputs": [
        {
          "output_type": "execute_result",
          "data": {
            "text/plain": [
              "array([ 0.04576465,  0.18853002, -0.00103749])"
            ]
          },
          "metadata": {},
          "execution_count": 15
        }
      ]
    },
    {
      "cell_type": "code",
      "source": [
        "lm.intercept_"
      ],
      "metadata": {
        "colab": {
          "base_uri": "https://localhost:8080/"
        },
        "id": "-plZSPle35rf",
        "outputId": "3b02f0de-e10b-4928-d81a-ee38f4bc997c"
      },
      "execution_count": 16,
      "outputs": [
        {
          "output_type": "execute_result",
          "data": {
            "text/plain": [
              "2.938889369459412"
            ]
          },
          "metadata": {},
          "execution_count": 16
        }
      ]
    }
  ]
}